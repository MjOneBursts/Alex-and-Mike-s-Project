{
 "cells": [
  {
   "cell_type": "code",
   "execution_count": 206,
   "metadata": {},
   "outputs": [],
   "source": [
    "import pandas as pd\n",
    "import numpy as np\n",
    "import seaborn as sns\n",
    "import matplotlib.pyplot as plt\n",
    "data = pd.read_csv('ufo_dataframe')"
   ]
  },
  {
   "cell_type": "code",
   "execution_count": 207,
   "metadata": {},
   "outputs": [
    {
     "data": {
      "text/html": [
       "<div>\n",
       "<style scoped>\n",
       "    .dataframe tbody tr th:only-of-type {\n",
       "        vertical-align: middle;\n",
       "    }\n",
       "\n",
       "    .dataframe tbody tr th {\n",
       "        vertical-align: top;\n",
       "    }\n",
       "\n",
       "    .dataframe thead th {\n",
       "        text-align: right;\n",
       "    }\n",
       "</style>\n",
       "<table border=\"1\" class=\"dataframe\">\n",
       "  <thead>\n",
       "    <tr style=\"text-align: right;\">\n",
       "      <th></th>\n",
       "      <th>date/time</th>\n",
       "      <th>city</th>\n",
       "      <th>state</th>\n",
       "      <th>shape</th>\n",
       "      <th>duration</th>\n",
       "      <th>summary</th>\n",
       "    </tr>\n",
       "  </thead>\n",
       "  <tbody>\n",
       "    <tr>\n",
       "      <th>0</th>\n",
       "      <td>1/31/00 22:21</td>\n",
       "      <td>Escondido</td>\n",
       "      <td>CA</td>\n",
       "      <td>Circle</td>\n",
       "      <td>8 mins</td>\n",
       "      <td>approx 22:21 saw a bright light hovering just ...</td>\n",
       "    </tr>\n",
       "    <tr>\n",
       "      <th>1</th>\n",
       "      <td>1/31/00 21:00</td>\n",
       "      <td>Cape Canaveral</td>\n",
       "      <td>FL</td>\n",
       "      <td>Light</td>\n",
       "      <td>1 minute</td>\n",
       "      <td>Glowing green light came up right side of movi...</td>\n",
       "    </tr>\n",
       "    <tr>\n",
       "      <th>2</th>\n",
       "      <td>1/30/00 23:15</td>\n",
       "      <td>San Francisco (Farallon Island)</td>\n",
       "      <td>CA</td>\n",
       "      <td>Triangle</td>\n",
       "      <td>:15</td>\n",
       "      <td>Encountered large triangular object while nigh...</td>\n",
       "    </tr>\n",
       "    <tr>\n",
       "      <th>3</th>\n",
       "      <td>1/30/00 10:30</td>\n",
       "      <td>New Wilmington</td>\n",
       "      <td>PA</td>\n",
       "      <td>Circle</td>\n",
       "      <td>2 minutes</td>\n",
       "      <td>An airplane like object was witneesed in the s...</td>\n",
       "    </tr>\n",
       "    <tr>\n",
       "      <th>4</th>\n",
       "      <td>1/29/00 13:00</td>\n",
       "      <td>Beaverton</td>\n",
       "      <td>OR</td>\n",
       "      <td>Cylinder</td>\n",
       "      <td>15min</td>\n",
       "      <td>Traveling from Portland to Beaverton Saturday ...</td>\n",
       "    </tr>\n",
       "  </tbody>\n",
       "</table>\n",
       "</div>"
      ],
      "text/plain": [
       "       date/time                             city state     shape   duration  \\\n",
       "0  1/31/00 22:21                        Escondido    CA    Circle     8 mins   \n",
       "1  1/31/00 21:00                   Cape Canaveral    FL     Light   1 minute   \n",
       "2  1/30/00 23:15  San Francisco (Farallon Island)    CA  Triangle        :15   \n",
       "3  1/30/00 10:30                   New Wilmington    PA    Circle  2 minutes   \n",
       "4  1/29/00 13:00                        Beaverton    OR  Cylinder      15min   \n",
       "\n",
       "                                             summary  \n",
       "0  approx 22:21 saw a bright light hovering just ...  \n",
       "1  Glowing green light came up right side of movi...  \n",
       "2  Encountered large triangular object while nigh...  \n",
       "3  An airplane like object was witneesed in the s...  \n",
       "4  Traveling from Portland to Beaverton Saturday ...  "
      ]
     },
     "execution_count": 207,
     "metadata": {},
     "output_type": "execute_result"
    }
   ],
   "source": [
    "data = data.drop(columns='Unnamed: 0')\n",
    "data.head()"
   ]
  },
  {
   "cell_type": "code",
   "execution_count": 208,
   "metadata": {},
   "outputs": [],
   "source": [
    "from collections import defaultdict\n",
    "from collections import Counter\n",
    "\n",
    "def frecuency_words(d):\n",
    "    total_words = []\n",
    "    results = defaultdict(list)\n",
    "    messages = d['summary'].unique().tolist()\n",
    "    for message in messages:\n",
    "        if type(message) == float:\n",
    "            pass\n",
    "        else:\n",
    "            message = message.split()\n",
    "            for m in message:\n",
    "\n",
    "                if len(m)>1:\n",
    "                  total_words.append(m)\n",
    "                else:\n",
    "                    pass\n",
    "    words = Counter(total_words)\n",
    "    values = list(words.values())\n",
    "    words = list(words.keys())\n",
    "    results['word'] = words\n",
    "    results['frequency'] = values\n",
    "    df = pd.DataFrame(results) \n",
    "    return df\n",
    "df = frecuency_words(data)\n"
   ]
  },
  {
   "cell_type": "code",
   "execution_count": 209,
   "metadata": {},
   "outputs": [],
   "source": [
    "df = df.sort_values(by = 'frequency', ascending=False)\n",
    "most_common = df.head(n=100)"
   ]
  },
  {
   "cell_type": "code",
   "execution_count": 210,
   "metadata": {},
   "outputs": [],
   "source": [
    "#Get most common words that isn't a stop word or a color\n",
    "stopwords = ['i', 'me', 'my', 'myself', 'we', 'our', 'ours', 'ourselves', 'you', \"you're\", \"you've\", \"you'll\", \"you'd\", 'your', 'yours', 'yourself', 'yourselves', 'he', 'him', 'his', 'himself', 'she', \"she's\", 'her', 'hers', 'herself', 'it', \"it's\", 'its', 'itself', 'they', 'them', 'their', 'theirs', 'themselves', 'what', 'which', 'who', 'whom', 'this', 'that', \"that'll\", 'these', 'those', 'am', 'is', 'are', 'was', 'were', 'be', 'been', 'being', 'have', 'has', 'had', 'having', 'do', 'does', 'did', 'doing', 'a', 'an', 'the', 'and', 'but', 'if', 'or', 'because', 'as', 'until', 'while', 'of', 'at', 'by', 'for', 'with', 'about', 'against', 'between', 'into', 'through', 'during', 'before', 'after', 'above', 'below', 'to', 'from', 'up', 'down', 'in', 'out', 'on', 'off', 'over', 'under', 'again', 'further', 'then', 'once', 'here', 'there', 'when', 'where', 'why', 'how', 'all', 'any', 'both', 'each', 'few', 'more', 'most', 'other', 'some', 'such', 'no', 'nor', 'not', 'only', 'own', 'same', 'so', 'than', 'too', 'very', 's', 't', 'can', 'will', 'just', 'don', \"don't\", 'should', \"should've\", 'now', 'd', 'll', 'm', 'o', 're', 've', 'y', 'ain', 'aren', \"aren't\", 'couldn', \"couldn't\", 'didn', \"didn't\", 'doesn', \"doesn't\", 'hadn', \"hadn't\", 'hasn', \"hasn't\", 'haven', \"haven't\", 'isn', \"isn't\", 'ma', 'mightn', \"mightn't\", 'mustn', \"mustn't\", 'needn', \"needn't\", 'shan', \"shan't\", 'shouldn', \"shouldn't\", 'wasn', \"wasn't\", 'weren', \"weren't\", 'won', \"won't\", 'wouldn', \"wouldn't\"]\n",
    "most_common = most_common.loc[~most_common['word'].isin(stopwords) & ~most_common['word'].isin(webcolors.CSS3_NAMES_TO_HEX)]"
   ]
  },
  {
   "cell_type": "code",
   "execution_count": 211,
   "metadata": {},
   "outputs": [
    {
     "name": "stderr",
     "output_type": "stream",
     "text": [
      "C:\\Users\\jaram\\AppData\\Local\\Packages\\PythonSoftwareFoundation.Python.3.9_qbz5n2kfra8p0\\LocalCache\\local-packages\\Python39\\site-packages\\seaborn\\_decorators.py:36: FutureWarning: Pass the following variables as keyword args: x, y. From version 0.12, the only valid positional argument will be `data`, and passing other arguments without an explicit keyword will result in an error or misinterpretation.\n",
      "  warnings.warn(\n"
     ]
    },
    {
     "data": {
      "text/plain": [
       "<Figure size 1080x576 with 0 Axes>"
      ]
     },
     "execution_count": 211,
     "metadata": {},
     "output_type": "execute_result"
    },
    {
     "data": {
      "image/png": "[encoded data removed]",
      "text/plain": [
       "<Figure size 432x288 with 1 Axes>"
      ]
     },
     "metadata": {
      "needs_background": "light"
     },
     "output_type": "display_data"
    },
    {
     "data": {
      "text/plain": [
       "<Figure size 1080x576 with 0 Axes>"
      ]
     },
     "metadata": {},
     "output_type": "display_data"
    }
   ],
   "source": [
    "sns.barplot('word', 'frequency', data=most_common.head(n = 10))\n",
    "plt.title('Most Common Words, not including Colors')\n",
    "plt.figure(figsize = (15,8))\n"
   ]
  },
  {
   "cell_type": "code",
   "execution_count": 212,
   "metadata": {},
   "outputs": [],
   "source": [
    "import webcolors\n",
    "colors_df = df.loc[df['word'].isin(webcolors.CSS3_NAMES_TO_HEX)] #Get Dataframe with most common colors"
   ]
  },
  {
   "cell_type": "code",
   "execution_count": 213,
   "metadata": {},
   "outputs": [
    {
     "name": "stderr",
     "output_type": "stream",
     "text": [
      "C:\\Users\\jaram\\AppData\\Local\\Packages\\PythonSoftwareFoundation.Python.3.9_qbz5n2kfra8p0\\LocalCache\\local-packages\\Python39\\site-packages\\seaborn\\_decorators.py:36: FutureWarning: Pass the following variables as keyword args: x, y. From version 0.12, the only valid positional argument will be `data`, and passing other arguments without an explicit keyword will result in an error or misinterpretation.\n",
      "  warnings.warn(\n"
     ]
    },
    {
     "data": {
      "text/plain": [
       "Text(0.5, 1.0, 'Most Common Colors')"
      ]
     },
     "execution_count": 213,
     "metadata": {},
     "output_type": "execute_result"
    },
    {
     "data": {
      "image/png": "[encoded data removed]",
      "text/plain": [
       "<Figure size 432x288 with 1 Axes>"
      ]
     },
     "metadata": {
      "needs_background": "light"
     },
     "output_type": "display_data"
    }
   ],
   "source": [
    "sns.barplot('word', 'frequency', data = colors_df.head(n=10))\n",
    "plt.title('Most Common Colors')\n"
   ]
  },
  {
   "cell_type": "code",
   "execution_count": 214,
   "metadata": {},
   "outputs": [],
   "source": [
    "#Some more deep diving into the descriptions, trying to isolate the words after 'shaped'\n",
    "shape = data['summary'].str.split('shaped', expand=True)"
   ]
  },
  {
   "cell_type": "code",
   "execution_count": 215,
   "metadata": {},
   "outputs": [
    {
     "data": {
      "text/html": [
       "<div>\n",
       "<style scoped>\n",
       "    .dataframe tbody tr th:only-of-type {\n",
       "        vertical-align: middle;\n",
       "    }\n",
       "\n",
       "    .dataframe tbody tr th {\n",
       "        vertical-align: top;\n",
       "    }\n",
       "\n",
       "    .dataframe thead th {\n",
       "        text-align: right;\n",
       "    }\n",
       "</style>\n",
       "<table border=\"1\" class=\"dataframe\">\n",
       "  <thead>\n",
       "    <tr style=\"text-align: right;\">\n",
       "      <th></th>\n",
       "      <th>0</th>\n",
       "      <th>1</th>\n",
       "      <th>2</th>\n",
       "    </tr>\n",
       "  </thead>\n",
       "  <tbody>\n",
       "    <tr>\n",
       "      <th>1040</th>\n",
       "      <td>A diamond</td>\n",
       "      <td>formation of black shiny diamond</td>\n",
       "      <td>objects in the middle of the day with no noise.</td>\n",
       "    </tr>\n",
       "    <tr>\n",
       "      <th>2072</th>\n",
       "      <td>It was cigar</td>\n",
       "      <td>with a fin</td>\n",
       "      <td>tail it was very quiet it was silver and then...</td>\n",
       "    </tr>\n",
       "    <tr>\n",
       "      <th>2706</th>\n",
       "      <td>11/23/00 observed a V-</td>\n",
       "      <td>and crescent-</td>\n",
       "      <td>object silently crossing the sky with dull or...</td>\n",
       "    </tr>\n",
       "    <tr>\n",
       "      <th>2747</th>\n",
       "      <td>Southwest, a somewhat \"left-parenthesis\"-</td>\n",
       "      <td>formation of 10-15 oval-</td>\n",
       "      <td>silvery/white objects moving from southwest t...</td>\n",
       "    </tr>\n",
       "    <tr>\n",
       "      <th>4488</th>\n",
       "      <td>A triangluar</td>\n",
       "      <td>craft appeared in a rectangular</td>\n",
       "      <td>aura in Bryn Mawr, PA.</td>\n",
       "    </tr>\n",
       "    <tr>\n",
       "      <th>...</th>\n",
       "      <td>...</td>\n",
       "      <td>...</td>\n",
       "      <td>...</td>\n",
       "    </tr>\n",
       "    <tr>\n",
       "      <th>112079</th>\n",
       "      <td>3 objects in line with each other that were sq...</td>\n",
       "      <td>with triangle</td>\n",
       "      <td>lights going back and for between them. All 3...</td>\n",
       "    </tr>\n",
       "    <tr>\n",
       "      <th>112428</th>\n",
       "      <td>Triangle</td>\n",
       "      <td>craft with V</td>\n",
       "      <td>lights underneath</td>\n",
       "    </tr>\n",
       "    <tr>\n",
       "      <th>112659</th>\n",
       "      <td>White craft cigar</td>\n",
       "      <td>traveled west to east, There were no lights o...</td>\n",
       "      <td>craft. Approximate speed was 800 to 9</td>\n",
       "    </tr>\n",
       "    <tr>\n",
       "      <th>112823</th>\n",
       "      <td>Metal vertical flying, cross-</td>\n",
       "      <td>object with spoon-</td>\n",
       "      <td>glowing red top. Emitted no sounds as it flew...</td>\n",
       "    </tr>\n",
       "    <tr>\n",
       "      <th>115781</th>\n",
       "      <td>A purple teardrop</td>\n",
       "      <td>lighting with an alien</td>\n",
       "      <td>head inside.</td>\n",
       "    </tr>\n",
       "  </tbody>\n",
       "</table>\n",
       "<p>72 rows × 3 columns</p>\n",
       "</div>"
      ],
      "text/plain": [
       "                                                        0  \\\n",
       "1040                                           A diamond    \n",
       "2072                                        It was cigar    \n",
       "2706                               11/23/00 observed a V-   \n",
       "2747            Southwest, a somewhat \"left-parenthesis\"-   \n",
       "4488                                        A triangluar    \n",
       "...                                                   ...   \n",
       "112079  3 objects in line with each other that were sq...   \n",
       "112428                                          Triangle    \n",
       "112659                                 White craft cigar    \n",
       "112823                      Metal vertical flying, cross-   \n",
       "115781                                 A purple teardrop    \n",
       "\n",
       "                                                        1  \\\n",
       "1040                    formation of black shiny diamond    \n",
       "2072                                          with a fin    \n",
       "2706                                        and crescent-   \n",
       "2747                             formation of 10-15 oval-   \n",
       "4488                     craft appeared in a rectangular    \n",
       "...                                                   ...   \n",
       "112079                                     with triangle    \n",
       "112428                                      craft with V    \n",
       "112659   traveled west to east, There were no lights o...   \n",
       "112823                                 object with spoon-   \n",
       "115781                            lighting with an alien    \n",
       "\n",
       "                                                        2  \n",
       "1040      objects in the middle of the day with no noise.  \n",
       "2072     tail it was very quiet it was silver and then...  \n",
       "2706     object silently crossing the sky with dull or...  \n",
       "2747     silvery/white objects moving from southwest t...  \n",
       "4488                               aura in Bryn Mawr, PA.  \n",
       "...                                                   ...  \n",
       "112079   lights going back and for between them. All 3...  \n",
       "112428                                  lights underneath  \n",
       "112659              craft. Approximate speed was 800 to 9  \n",
       "112823   glowing red top. Emitted no sounds as it flew...  \n",
       "115781                                       head inside.  \n",
       "\n",
       "[72 rows x 3 columns]"
      ]
     },
     "execution_count": 215,
     "metadata": {},
     "output_type": "execute_result"
    }
   ],
   "source": [
    "shape = shape.dropna()\n",
    "shape # Here we have all descriptions who try to descibe the shape of the UFO"
   ]
  },
  {
   "cell_type": "code",
   "execution_count": 216,
   "metadata": {},
   "outputs": [
    {
     "data": {
      "text/html": [
       "<div>\n",
       "<style scoped>\n",
       "    .dataframe tbody tr th:only-of-type {\n",
       "        vertical-align: middle;\n",
       "    }\n",
       "\n",
       "    .dataframe tbody tr th {\n",
       "        vertical-align: top;\n",
       "    }\n",
       "\n",
       "    .dataframe thead th {\n",
       "        text-align: right;\n",
       "    }\n",
       "</style>\n",
       "<table border=\"1\" class=\"dataframe\">\n",
       "  <thead>\n",
       "    <tr style=\"text-align: right;\">\n",
       "      <th></th>\n",
       "      <th>summary</th>\n",
       "    </tr>\n",
       "  </thead>\n",
       "  <tbody>\n",
       "    <tr>\n",
       "      <th>1040</th>\n",
       "      <td>A diamond  formation of black shiny diamond  o...</td>\n",
       "    </tr>\n",
       "    <tr>\n",
       "      <th>2072</th>\n",
       "      <td>It was cigar  with a fin  tail it was very qui...</td>\n",
       "    </tr>\n",
       "    <tr>\n",
       "      <th>2706</th>\n",
       "      <td>11/23/00 observed a V- and crescent- object si...</td>\n",
       "    </tr>\n",
       "    <tr>\n",
       "      <th>2747</th>\n",
       "      <td>Southwest, a somewhat \"left-parenthesis\"- form...</td>\n",
       "    </tr>\n",
       "    <tr>\n",
       "      <th>4488</th>\n",
       "      <td>A triangluar  craft appeared in a rectangular ...</td>\n",
       "    </tr>\n",
       "    <tr>\n",
       "      <th>...</th>\n",
       "      <td>...</td>\n",
       "    </tr>\n",
       "    <tr>\n",
       "      <th>112079</th>\n",
       "      <td>3 objects in line with each other that were sq...</td>\n",
       "    </tr>\n",
       "    <tr>\n",
       "      <th>112428</th>\n",
       "      <td>Triangle  craft with V  lights underneath</td>\n",
       "    </tr>\n",
       "    <tr>\n",
       "      <th>112659</th>\n",
       "      <td>White craft cigar  traveled west to east, Ther...</td>\n",
       "    </tr>\n",
       "    <tr>\n",
       "      <th>112823</th>\n",
       "      <td>Metal vertical flying, cross- object with spoo...</td>\n",
       "    </tr>\n",
       "    <tr>\n",
       "      <th>115781</th>\n",
       "      <td>A purple teardrop  lighting with an alien  hea...</td>\n",
       "    </tr>\n",
       "  </tbody>\n",
       "</table>\n",
       "<p>72 rows × 1 columns</p>\n",
       "</div>"
      ],
      "text/plain": [
       "                                                  summary\n",
       "1040    A diamond  formation of black shiny diamond  o...\n",
       "2072    It was cigar  with a fin  tail it was very qui...\n",
       "2706    11/23/00 observed a V- and crescent- object si...\n",
       "2747    Southwest, a somewhat \"left-parenthesis\"- form...\n",
       "4488    A triangluar  craft appeared in a rectangular ...\n",
       "...                                                   ...\n",
       "112079  3 objects in line with each other that were sq...\n",
       "112428          Triangle  craft with V  lights underneath\n",
       "112659  White craft cigar  traveled west to east, Ther...\n",
       "112823  Metal vertical flying, cross- object with spoo...\n",
       "115781  A purple teardrop  lighting with an alien  hea...\n",
       "\n",
       "[72 rows x 1 columns]"
      ]
     },
     "execution_count": 216,
     "metadata": {},
     "output_type": "execute_result"
    }
   ],
   "source": [
    "shape['summary'] = shape[0] + shape[1] + shape[2] #Recombine for analysis\n",
    "shape = shape.drop(columns=[0, 1, 2])\n",
    "shape"
   ]
  },
  {
   "cell_type": "code",
   "execution_count": 218,
   "metadata": {},
   "outputs": [],
   "source": [
    "#Apply similar analysis from earlier \n",
    "shape = frecuency_words(shape)\n",
    "shape = shape.loc[~shape['word'].isin(webcolors.CSS3_NAMES_TO_HEX) & ~shape['word'].isin(stopwords)]"
   ]
  },
  {
   "cell_type": "code",
   "execution_count": 220,
   "metadata": {},
   "outputs": [
    {
     "name": "stderr",
     "output_type": "stream",
     "text": [
      "C:\\Users\\jaram\\AppData\\Local\\Packages\\PythonSoftwareFoundation.Python.3.9_qbz5n2kfra8p0\\LocalCache\\local-packages\\Python39\\site-packages\\seaborn\\_decorators.py:36: FutureWarning: Pass the following variables as keyword args: x, y. From version 0.12, the only valid positional argument will be `data`, and passing other arguments without an explicit keyword will result in an error or misinterpretation.\n",
      "  warnings.warn(\n"
     ]
    },
    {
     "data": {
      "text/plain": [
       "Text(0.5, 1.0, 'Most Common words describing the shape of the UFO')"
      ]
     },
     "execution_count": 220,
     "metadata": {},
     "output_type": "execute_result"
    },
    {
     "data": {
      "image/png": "[encoded data removed]",
      "text/plain": [
       "<Figure size 432x288 with 1 Axes>"
      ]
     },
     "metadata": {
      "needs_background": "light"
     },
     "output_type": "display_data"
    }
   ],
   "source": [
    "shape = shape.sort_values(by = 'frequency',ascending=False)\n",
    "sns.barplot('word', 'frequency', data=shape.head(n=10))\n",
    "plt.title('Most Common words describing the shape of the UFO')"
   ]
  }
 ],
 "metadata": {
  "interpreter": {
   "hash": "7224ddd6d4d833f0ee77afce79716601c0f0cc83aa584c3c92f13817b6e91d42"
  },
  "kernelspec": {
   "display_name": "Python 3.9.10 64-bit (windows store)",
   "language": "python",
   "name": "python3"
  },
  "language_info": {
   "codemirror_mode": {
    "name": "ipython",
    "version": 3
   },
   "file_extension": ".py",
   "mimetype": "text/x-python",
   "name": "python",
   "nbconvert_exporter": "python",
   "pygments_lexer": "ipython3",
   "version": "3.9.10"
  },
  "orig_nbformat": 4
 },
 "nbformat": 4,
 "nbformat_minor": 2
}
